{
 "cells": [
  {
   "cell_type": "markdown",
   "id": "8a497a4c",
   "metadata": {},
   "source": [
    "(probability)=\n",
    "\n",
    "# 4 Introducción a R"
   ]
  },
  {
   "cell_type": "code",
   "execution_count": 1,
   "id": "31e12582",
   "metadata": {},
   "outputs": [],
   "source": [
    "# Escribe líneas de código aquí. Para ejecutar el código, presiona el botón de \"Play\""
   ]
  }
 ],
 "metadata": {
  "jupytext": {
   "text_representation": {
    "extension": ".md",
    "format_name": "myst"
   }
  },
  "kernelspec": {
   "display_name": "R",
   "language": "R",
   "name": "ir"
  },
  "language_info": {
   "codemirror_mode": "r",
   "file_extension": ".r",
   "mimetype": "text/x-r-source",
   "name": "R",
   "pygments_lexer": "r",
   "version": "4.2.2"
  },
  "source_map": [
   10,
   16
  ]
 },
 "nbformat": 4,
 "nbformat_minor": 5
}