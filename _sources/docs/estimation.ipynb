{
 "cells": [
  {
   "cell_type": "markdown",
   "id": "0daa0a82",
   "metadata": {},
   "source": [
    "(estimation)=\n",
    "\n",
    "# Estimación{#estimation}\n",
    "\n",
    "Al comienzo del capítulo inicial, vimos la distinción que existe entre la *estadística descriptiva* y la *estadística inferencial*. El papel de la estadística descriptiva es resumir de manera concisa lo que *ya sabemos*. Por otro lado, el propósito de la estadística inferencial es “aprender lo que no sabemos a partir de lo que hacemos”. Ahora que tenemos cierto conocimiento sobre la teoría de la probabilidad, podemos pensar en el problema de la inferencia estadística. ¿Qué tipo de información nos gustaría conocer o aprender? ¿Y cómo lo aprendemos? Estas son las preguntas que se encuentran en el corazón de la estadística inferencial y tradicionalmente se dividen en dos “grandes ideas”: la estimación y la prueba o contraste de hipótesis. El objetivo de este capítulo es presentar la primera de estas grandes ideas, la teoría de la estimación. Pero antes, hablaré sobre la teoría del muestreo, ya que la teoría de la estimación no tiene sentido hasta que no se comprende el muestreo. Como consecuencia, este capítulo se divide en dos partes, las secciones \\@ref(srs) a \\@ref(samplesandclt) se centran en la teoría del muestreo, y las secciones \\@ref(pointestimates) y \\@ref(ci) hacen uso de esa teoría del muestreo para discutir cómo piensan los estadísticos sobre la estimación.\n",
    " \n",
    "---\n",
    "\n",
    "## Muestras, poblaciones y muestreo{#srs}\n",
    "\n",
    "Antes hemos hablado sobre el proceso de inducción inferencial, donde recalcamos que *todo* aprendizaje (o aquello que queremos llegar a conocer) requiere que hagamos suposiciones. Aceptando que esto es cierto, hemos de aceptar algunas suposiciones generales sobre los datos que hemos adquirido para poder utilizarlos. Aquí es donde entra en juego la **_teoría del muestreo_**. Si la teoría de la probabilidad representa los cimientos sobre los que se construye toda la teoría estadística, la teoría del muestreo es el marco alrededor del cual se puede construir el resto de la casa. La teoría del muestreo juega un papel muy importante en la especificación de los supuestos en los que se basan sus inferencias estadísticas. Y para hablar sobre \"hacer inferencias\" de la forma en que los estadísticos lo piensan, debemos ser un poco más explícitos acerca de *qué* es lo que estamos extrayendo  (la muestra) y *sobre qué* es de lo que estamos haciendo inferencias (la población).\n",
    "\n",
    "En casi todas las situaciones de interés, lo que tenemos a nuestra disposición como investigadores es una *muestra* de datos. Podríamos, por ejemplo, haber realizado un experimento con un cierto número de participantes; una empresa de encuestas podría haber telefoneado a algunas personas para hacer preguntas sobre las intenciones de voto, etc. Independientemente de cual sea el caso, el conjunto de datos disponibles que tengamos es finito e incompleto. No podemos conseguir que todas las personas del mundo realicen nuestro experimento; una empresa de encuestas no tiene el tiempo ni el dinero para llamar a todos los votantes del país, etc. Para la estadística descriptiva esta muestra es lo único que importa. Con la estadística inferencial daremos un paso más allá. \n",
    "\n",
    "---\n",
    "\n",
    "### Definición de una población{#pop}\n",
    "\n",
    "Una muestra es una cosa muy concreta. Puedes abrir un archivo de Excel y ahí podrás encontrar los datos de una muestra. Una **_población_**, por otro lado, es una idea más abstracta. Se refiere al conjunto de todas las personas posibles, o todas las observaciones posibles, sobre las que desea sacar conclusiones y, en general, es *mucho* más grande que la muestra. En un mundo ideal, el investigador comenzaría el estudio con una idea clara de cuál es la población de interés, ya que el proceso de diseñar un estudio y probar una hipótesis sobre los datos que produce depende de la población sobre la que se quiere hacer afirmaciones. Sin embargo, en la práctica esto no sucede siempre: por lo general, el investigador tiene una idea bastante vaga de lo que es la población y diseña el estudio lo mejor que puede sobre esa base.\n",
    "\n",
    "A veces es fácil indicar cuál es la población de interés. En el ejemplo de la \"empresa de encuestas\" que vimos en el capítulo anterior, la población consistía en todos los votantes inscritos en un momento del estudio: varios millones de personas. En cambio, la muestra fue un conjunto de 1,000 personas que pertenecen todas a esa población. Sin embargo, en la mayoría de los casos, definir esta muestra/población no es tan fácil. En estudios o experimentos con seres humanos, determinar la población de interés es un poco más complicado. Supongamos que realizo un experimento con 100 estudiantes de pregrado que representan mi muestra. Mi objetivo es, por ejemplo, intentar aprender algo sobre cómo una intervención educativa modifica la dinámica de una clase. Tomando en cuento a la muestra que tenemos, ¿cuál de las siguientes opciones contará como \"la población\"?:\n",
    "\n",
    "- ¿Todos los estudiantes de educación de la Universidad de Navarra?      \n",
    "- ¿Estudiantes de grado en educación en general, de cualquier parte del mundo?      \n",
    "- ¿Españoles vivos actualmente?      \n",
    "- ¿Españoles de edades similares a las de mi muestra?\n",
    "- ¿Hispanoparlantes?\n",
    "- ¿Cualquier persona viva actualmente?      \n",
    "- ¿Cualquier ser humano, pasado, presente o futuro?      \n",
    "\n",
    "Cada una de estas opciones define un grupo real de personas, las cuales podrían ser todas de interés para mí como investigador en educación, y no es tan obvio cuál debería ser la verdadera población de interés. \n",
    "\n",
    "---\n",
    "\n",
    "### Muestras aleatorias simples"
   ]
  },
  {
   "cell_type": "code",
   "execution_count": 1,
   "id": "1b8304ce",
   "metadata": {
    "tags": [
     "remove-cell"
    ]
   },
   "outputs": [
    {
     "ename": "ERROR",
     "evalue": "Error in knitr::include_graphics(file.path(\"img/srs1.png\")): Cannot find the file(s): \"img/srs1.png\"\n",
     "output_type": "error",
     "traceback": [
      "Error in knitr::include_graphics(file.path(\"img/srs1.png\")): Cannot find the file(s): \"img/srs1.png\"\nTraceback:\n",
      "1. knitr::include_graphics(file.path(\"img/srs1.png\"))",
      "2. stop(\"Cannot find the file(s): \", quote_vec(p))"
     ]
    }
   ],
   "source": [
    "knitr::include_graphics(file.path(\"img/srs1.png\"))"
   ]
  },
  {
   "cell_type": "markdown",
   "id": "0c160cfd",
   "metadata": {},
   "source": [
    "---"
   ]
  },
  {
   "cell_type": "code",
   "execution_count": null,
   "id": "26049cdd",
   "metadata": {
    "tags": [
     "remove-cell"
    ]
   },
   "outputs": [],
   "source": []
  },
  {
   "cell_type": "code",
   "execution_count": null,
   "id": "34e5a050",
   "metadata": {
    "tags": [
     "hide-input"
    ]
   },
   "outputs": [],
   "source": []
  },
  {
   "cell_type": "markdown",
   "id": "c1e966b0",
   "metadata": {},
   "source": [
    "---\n",
    "\n",
    "## Resumen"
   ]
  }
 ],
 "metadata": {
  "jupytext": {
   "text_representation": {
    "extension": ".md",
    "format_name": "myst"
   }
  },
  "kernelspec": {
   "display_name": "R",
   "language": "R",
   "name": "ir"
  },
  "language_info": {
   "codemirror_mode": "r",
   "file_extension": ".r",
   "mimetype": "text/x-r-source",
   "name": "R",
   "pygments_lexer": "r",
   "version": "4.2.2"
  },
  "source_map": [
   10,
   48,
   51,
   55,
   59,
   61
  ]
 },
 "nbformat": 4,
 "nbformat_minor": 5
}